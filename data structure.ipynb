{
 "cells": [
  {
   "cell_type": "code",
   "execution_count": null,
   "id": "fa906f5c",
   "metadata": {},
   "outputs": [],
   "source": []
  },
  {
   "cell_type": "code",
   "execution_count": 13,
   "id": "7f8c1795",
   "metadata": {},
   "outputs": [],
   "source": [
    "def get_parent(index):\n",
    "    node = head\n",
    "    for i in range(index//2):\n",
    "        node = node.next\n",
    "    return node"
   ]
  },
  {
   "cell_type": "code",
   "execution_count": 15,
   "id": "937b126d",
   "metadata": {},
   "outputs": [],
   "source": [
    "def get_left_child(index):\n",
    "    node = head\n",
    "    for i in range((index*2)+1):\n",
    "        node = node.next\n",
    "    return node"
   ]
  },
  {
   "cell_type": "code",
   "execution_count": 12,
   "id": "8b2eaa98",
   "metadata": {},
   "outputs": [],
   "source": [
    " def get_right_child(index):\n",
    "    node = head\n",
    "    for i in range((index*2)+2):\n",
    "        node = node.next\n",
    "    return node"
   ]
  },
  {
   "cell_type": "code",
   "execution_count": 5,
   "id": "1b9fe010",
   "metadata": {},
   "outputs": [],
   "source": [
    "class Node:\n",
    "    def __init__(self, key=None, next=None):\n",
    "        self.key = key\n",
    "        self.next = next\n",
    " \n",
    "def insert(root, key):\n",
    "    node = Node(key)\n",
    "    if root is None: # If empty tree, set current node as root \n",
    "        root = node  \n",
    "    else: \n",
    "        temp = root     # Otherwise start from root and compare inserted key with root's key\n",
    "        while temp != None:      # Then traverse the tree until an appropriate position is found for the new node \n",
    "            parent_node = temp \n",
    "\n",
    "            # go left or right based on comparison result \n",
    "            if temp.key > key: \n",
    "                temp = temp.left # if current node's key is greater than inserted key, move left \n",
    "            else: \n",
    "                temp = temp.right # else move right\n",
    "\n",
    "        if parent_node.key > key:  # When correct position is found set parent's left or right child accordingly \n",
    "            parent_node.left = node  \n",
    "        else:  \n",
    "            parent_node.right = node  \n",
    "\n",
    "    return root     # Return root of modified tree  \n",
    "  \n",
    "def delMin(root):  # Remove the head (or root) node of the heap and replace it with the last item in the heap \n",
    "    last_item = getLastItem(root) # Save the last item in a variable\n",
    "\n",
    "    if last_item is not None:         # If heap is not empty... \n",
    "\n",
    "        if last_item == root:         # If there is only one element in heap, update root to None \n",
    "            root = None\n",
    "\n",
    "        else:                        # Else traverse bottom up starting from last item and rearrange the heap structure accordingly \n",
    "            temp = root              # Start from root and find parent of last item  \n",
    "\n",
    "            while (temp != None):\n",
    "\n",
    "                if temp.left != None and temp.left == last_item:      # check if left child of current node is equal to last item \n",
    "\n",
    "                    temp.left = None   # If yes, set its left child as None and break loop \n",
    "\n",
    "                    break          \n"
   ]
  },
  {
   "cell_type": "code",
   "execution_count": null,
   "id": "40b59df3",
   "metadata": {},
   "outputs": [],
   "source": [
    "To insert an element into the queue, we need to traverse through the linked list until we find the correct place to insert the new element, which takes O(n) time.\n",
    "\n",
    "When finding the minimum element in the queue, we again need to traverse through all elements in order to find it. This also takes O(n) time. \n",
    "\n",
    "Finally, removing the minimum element involves locating it in the queue and then removing it from the list. This operation also takes O(n) time. \n",
    "\n",
    "Hence, all the operations of a minimum priority queue implemented with a singly linked list take O(n) time.\n"
   ]
  },
  {
   "cell_type": "code",
   "execution_count": 33,
   "id": "e0936b8e",
   "metadata": {},
   "outputs": [],
   "source": [
    "def measure_time(function, heap_size):\n",
    "    start = time.perf_counter()\n",
    "    function(heap_size)\n",
    "    end = time.perf_counter()\n",
    "    return end - start "
   ]
  },
  {
   "cell_type": "code",
   "execution_count": null,
   "id": "4c2dbaaa",
   "metadata": {},
   "outputs": [],
   "source": [
    "# Measure and plot insertion time \n",
    "x_axis = [i*10 for i in range (1,11)]  # Heap size = 10, 20, 30... 100 \n",
    "y_axis = [] \n",
    "for x in x_axis: \n",
    "    y_axis.append(measure_time(insert,x))  # Insert 'x' elements into the heap \n",
    "plt.plot(x_axis,y_axis) \n",
    "plt.title('Insertion Time Benchmark') \n",
    "plt.xlabel('Heap Size') \n",
    "plt.ylabel('Time Taken (sec)') \n",
    "plt.show()"
   ]
  },
  {
   "cell_type": "code",
   "execution_count": null,
   "id": "52fcefe3",
   "metadata": {
    "scrolled": false
   },
   "outputs": [],
   "source": [
    "Firstly, we need to define a class for each node in the heap, which will have its key and next properties:\n",
    "class Node:\n",
    "    def __init__(self, key=None, next=None):\n",
    "        self.key = key\n",
    "        self.next = next\n",
    " \n",
    "Now, we create an instance of this class and set the key and next values for each node as needed: \n",
    "node1 = Node(key='A')  # Root node \n",
    "node2 = Node(key='B',next=node1)  \n",
    "node3 = Node(key='C',next=node2) \n",
    "...\n",
    " \n",
    "Finally, use the Digraph method from graphviz library to render our tree structure: \n",
    "import graphviz as gv \n",
    "g = gv.Digraph()   # Initialize graph object \n",
    "# Add nodes to the graph according to the linked list data structure \n",
    "g.node('A')   # Root node \n",
    "g.edge('B','A')   # Edge between node B and A \n",
    "g.edge('C','B')   # Edge between node C and B \n",
    "...   # Similarly add all other edges connecting the nodes \n",
    "# Render graph in a PNG file format \n",
    "g.render('heap_linked_list')"
   ]
  },
  {
   "cell_type": "code",
   "execution_count": null,
   "id": "d063fd1d",
   "metadata": {},
   "outputs": [],
   "source": []
  }
 ],
 "metadata": {
  "kernelspec": {
   "display_name": "Python 3 (ipykernel)",
   "language": "python",
   "name": "python3"
  },
  "language_info": {
   "codemirror_mode": {
    "name": "ipython",
    "version": 3
   },
   "file_extension": ".py",
   "mimetype": "text/x-python",
   "name": "python",
   "nbconvert_exporter": "python",
   "pygments_lexer": "ipython3",
   "version": "3.9.7"
  }
 },
 "nbformat": 4,
 "nbformat_minor": 5
}
